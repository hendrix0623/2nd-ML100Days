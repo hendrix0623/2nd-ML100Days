{
 "cells": [
  {
   "cell_type": "markdown",
   "metadata": {},
   "source": [
    "## 練習時間\n",
    "在小量的資料上，我們用眼睛就可以看得出來程式碼是否有跑出我們理想中的結果\n",
    "\n",
    "請嘗試想像一個你需要的資料結構 (裡面的值可以是隨機的)，然後用上述的方法把它變成 pandas DataFrame\n",
    "\n",
    "#### Ex: 想像一個 dataframe 有兩個欄位，一個是國家，一個是人口，求人口數最多的國家\n",
    "\n",
    "### Hints: [隨機產生數值](https://blog.csdn.net/christianashannon/article/details/78867204)"
   ]
  },
  {
   "cell_type": "code",
   "execution_count": 2,
   "metadata": {},
   "outputs": [],
   "source": [
    "import pandas as pd\n",
    "import numpy as np"
   ]
  },
  {
   "cell_type": "code",
   "execution_count": 7,
   "metadata": {},
   "outputs": [
    {
     "name": "stdout",
     "output_type": "stream",
     "text": [
      "          國家人/口數\n",
      "Taiwan    756681\n",
      "Japan     875045\n",
      "Korea     794478\n",
      "Thailand  196711\n",
      "China     226954\n",
      "人口數最多的國家為 ('Japan', 875045)\n"
     ]
    }
   ],
   "source": [
    "data = {'Taiwan':np.random.randint(1,1000000),\n",
    "        'Japan':np.random.randint(1,1000000),\n",
    "        'Korea':np.random.randint(1,1000000),\n",
    "        'Thailand':np.random.randint(1,1000000),\n",
    "        'China':np.random.randint(1,1000000)} \n",
    "country=pd.Series(data)\n",
    "country_1=pd.DataFrame({'國家人/口數':country})\n",
    "\n",
    "pop_max=country.max(axis=0)\n",
    "pop_max_cnty=  country_1.loc[country_1['國家人/口數'].idxmax()]\n",
    "pop_max_cnty_name = (pop_max_cnty.name, pop_max_cnty.iloc[0])\n",
    "print(country_1)\n",
    "print('人口數最多的國家為',pop_max_cnty_name)"
   ]
  },
  {
   "cell_type": "code",
   "execution_count": null,
   "metadata": {
    "collapsed": true
   },
   "outputs": [],
   "source": []
  }
 ],
 "metadata": {
  "kernelspec": {
   "display_name": "Python 3",
   "language": "python",
   "name": "python3"
  },
  "language_info": {
   "codemirror_mode": {
    "name": "ipython",
    "version": 3
   },
   "file_extension": ".py",
   "mimetype": "text/x-python",
   "name": "python",
   "nbconvert_exporter": "python",
   "pygments_lexer": "ipython3",
   "version": "3.7.1"
  }
 },
 "nbformat": 4,
 "nbformat_minor": 2
}
